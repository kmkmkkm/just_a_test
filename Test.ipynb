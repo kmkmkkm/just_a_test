{
 "cells": [
  {
   "cell_type": "code",
   "execution_count": 21,
   "id": "8a1ea0a3-6ba0-4272-af25-843ebfa4853b",
   "metadata": {
    "tags": []
   },
   "outputs": [
    {
     "name": "stdout",
     "output_type": "stream",
     "text": [
      "CPU times: total: 109 ms\n",
      "Wall time: 1.16 s\n"
     ]
    }
   ],
   "source": [
    "%%time\n",
    "import numpy as np\n",
    "import pandas as pd\n",
    "import os\n",
    "ss_token = os.getenv('smartsheet_token')\n",
    "pd.options.mode.chained_assignment = None  # get rid of the \"A value is trying to be set on a copy of a slice from a DataFrame.\" warning\n",
    "## https://libraries.io/pypi/smartsheet-dataframe\n",
    "from smartsheet_dataframe import get_as_df, get_report_as_df\n",
    "## Data from this sheet ==> https://app.smartsheet.com/folders/5x6VP8Hqc8hMF6c5jr32frcmQHq7r9vGxpcRxWj1\n",
    "df_original = get_report_as_df(token=ss_token,report_id=4674558964852612)\n",
    "df = df_original[['Job#','Primary','Deadline','Word Count','Data Type','Assigned To']]\n",
    "df.loc[(df['Data Type']=='To Client')|(df['Data Type']=='To Developer')|(df['Data Type']=='Delivery'),'Deliveries'] = 1\n",
    "df.loc[(df['Data Type']!='To Client')&(df['Data Type']!='To Developer')&(df['Data Type']!='Delivery'),'Deliveries'] = 0\n",
    "df.loc[(df['Data Type']=='PL'),'Placing (LPs)'] = 1\n",
    "df.loc[(df['Data Type']!='PL'),'Placing (LPs)'] = 0\n",
    "df.loc[(df['Data Type']=='FE')&(df['Primary']=='FE: FT FE'),'FT FE (words)']=df['Word Count']\n",
    "df.loc[(df['Data Type']=='FE')&(df['Primary']=='FE: BT FE'),'BT FE (words)']=df['Word Count']\n",
    "df.loc[(df['Data Type']=='FE')&(df['Primary']=='FE: SSR Round 1'),'R1 SSR FE (words)']=df['Word Count']\n",
    "df.loc[(df['Data Type']=='FE')&(df['Primary']=='FE: SSR Round 2'),'R2 SSR FE (words)']=df['Word Count']\n",
    "df.loc[(df['Data Type']=='FE')&(df['Primary']=='FE: SSR Round 3'),'R3 SSR FE (words)']=df['Word Count']\n",
    "df.loc[(df['Data Type']=='PF'),'Preflight (jobs)']=df['Job#'].nunique()\n",
    "df.loc[(df['Assigned To']=='cwan@transperfect.com'),'Assigned To']='Carmen Wan'\n",
    "df.loc[(df['Assigned To']=='cma@transperfect.com'),'Assigned To']='Crystal Ma'\n",
    "df.fillna(0)\n",
    "capacity = df.groupby(['Deadline','Assigned To']).agg({'Deliveries':np.sum,'Preflight (jobs)':pd.Series.nunique,'Placing (LPs)':np.sum,'FT FE (words)':np.sum,'BT FE (words)':np.sum,'R1 SSR FE (words)':np.sum,'R2 SSR FE (words)':np.sum,'R3 SSR FE (words)':np.sum}).astype(int)"
   ]
  },
  {
   "cell_type": "code",
   "execution_count": 22,
   "id": "e364ad7f-9785-421d-a800-951b7d13ecf0",
   "metadata": {},
   "outputs": [
    {
     "data": {
      "application/vnd.jupyter.widget-view+json": {
       "model_id": "4a5d59b4ba6d4f6496dcfd2869edbc05",
       "version_major": 2,
       "version_minor": 0
      },
      "text/plain": [
       "interactive(children=(Dropdown(description='PM', options=('Carmen Wan', 'Crystal Ma'), value='Carmen Wan'), Ou…"
      ]
     },
     "metadata": {},
     "output_type": "display_data"
    },
    {
     "data": {
      "text/plain": [
       "<function __main__.PM_Capacity(PM)>"
      ]
     },
     "execution_count": 22,
     "metadata": {},
     "output_type": "execute_result"
    }
   ],
   "source": [
    "from __future__ import print_function\n",
    "from ipywidgets import interact, interactive, fixed, interact_manual\n",
    "import ipywidgets as ipw\n",
    "\n",
    "def PM_Capacity (PM):\n",
    "    capacity_PM = df.loc[df['Assigned To']==PM].groupby(['Deadline']).agg({'Deliveries':np.sum,'Preflight (jobs)':pd.Series.nunique,'Placing (LPs)':np.sum,'FT FE (words)':np.sum,'BT FE (words)':np.sum,'R1 SSR FE (words)':np.sum,'R2 SSR FE (words)':np.sum,'R3 SSR FE (words)':np.sum}).astype(int)\n",
    "    return capacity_PM\n",
    "\n",
    "interact(PM_Capacity,PM=[\"Carmen Wan\",\"Crystal Ma\"])"
   ]
  },
  {
   "cell_type": "code",
   "execution_count": 23,
   "id": "a5aab9fd-669c-4375-954a-b3a0f552e2e5",
   "metadata": {},
   "outputs": [],
   "source": [
    "!pip freeze > requirements.txt"
   ]
  },
  {
   "cell_type": "code",
   "execution_count": null,
   "id": "7194d335-3987-4325-b3e9-3f7f67fdd7e8",
   "metadata": {},
   "outputs": [],
   "source": []
  }
 ],
 "metadata": {
  "kernelspec": {
   "display_name": "Python 3 (ipykernel)",
   "language": "python",
   "name": "python3"
  },
  "language_info": {
   "codemirror_mode": {
    "name": "ipython",
    "version": 3
   },
   "file_extension": ".py",
   "mimetype": "text/x-python",
   "name": "python",
   "nbconvert_exporter": "python",
   "pygments_lexer": "ipython3",
   "version": "3.10.4"
  },
  "toc-autonumbering": false,
  "toc-showcode": false,
  "toc-showmarkdowntxt": false
 },
 "nbformat": 4,
 "nbformat_minor": 5
}
